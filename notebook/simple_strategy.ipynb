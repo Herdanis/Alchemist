{
 "cells": [
  {
   "cell_type": "code",
   "execution_count": 1,
   "metadata": {},
   "outputs": [],
   "source": [
    "# Import necessary modules\n",
    "from data import get_historical_data, get_market_price, get_balance\n",
    "from data import binanceExchange, set_leverage\n",
    "from analysis import analysis_sma, analysis_ema, analysis_macd, analysis_oi, analysis_rsi\n",
    "from typing import Optional, Tuple\n",
    "import pandas as pd"
   ]
  },
  {
   "cell_type": "code",
   "execution_count": 2,
   "metadata": {},
   "outputs": [],
   "source": [
    "# Define parameters\n",
    "symbol = 'SOL/USDT'\n",
    "timeframe = '15m'\n",
    "leverage = 10\n",
    "take_profit_pct = 0.03\n",
    "stop_loss_pct = 0.01"
   ]
  },
  {
   "cell_type": "code",
   "execution_count": 3,
   "metadata": {},
   "outputs": [
    {
     "name": "stdout",
     "output_type": "stream",
     "text": [
      "An error occurred: binance markets not loaded\n",
      "Time: 2023-05-14 13:00:00, Signal: potential_long, Price: 21.056\n",
      "Time: 2023-05-14 13:15:00, Signal: potential_long, Price: 21.042\n",
      "Time: 2023-05-14 13:30:00, Signal: potential_long, Price: 21.08\n",
      "Time: 2023-05-14 13:45:00, Signal: potential_long, Price: 21.121\n",
      "Time: 2023-05-14 14:00:00, Signal: potential_long, Price: 21.063\n",
      "Time: 2023-05-14 14:15:00, Signal: potential_long, Price: 21.042\n",
      "Time: 2023-05-14 14:30:00, Signal: potential_long, Price: 21.086\n",
      "Time: 2023-05-14 14:45:00, Signal: potential_long, Price: 21.114\n",
      "Time: 2023-05-14 15:45:00, Signal: potential_long, Price: 21.171\n",
      "Time: 2023-05-14 16:00:00, Signal: potential_long, Price: 21.111\n",
      "Time: 2023-05-14 16:15:00, Signal: potential_long, Price: 21.089\n",
      "Time: 2023-05-15 07:15:00, Signal: potential_long, Price: 21.402\n",
      "Time: 2023-05-15 07:30:00, Signal: potential_long, Price: 21.391\n",
      "Time: 2023-05-15 07:45:00, Signal: potential_long, Price: 21.38\n",
      "Time: 2023-05-15 08:00:00, Signal: potential_long, Price: 21.415\n",
      "Time: 2023-05-15 08:15:00, Signal: potential_long, Price: 21.429\n",
      "Time: 2023-05-15 08:30:00, Signal: potential_long, Price: 21.45\n",
      "Time: 2023-05-15 08:45:00, Signal: potential_long, Price: 21.452\n",
      "Time: 2023-05-15 15:15:00, Signal: potential_long, Price: 21.408\n",
      "Time: 2023-05-15 15:30:00, Signal: potential_long, Price: 21.407\n",
      "Time: 2023-05-15 15:45:00, Signal: potential_long, Price: 21.37\n",
      "Time: 2023-05-15 16:00:00, Signal: potential_long, Price: 21.402\n",
      "Time: 2023-05-15 16:15:00, Signal: potential_long, Price: 21.431\n",
      "Time: 2023-05-15 17:00:00, Signal: potential_long, Price: 21.432\n"
     ]
    }
   ],
   "source": [
    "\n",
    "def simple_long_strategy(df: pd.DataFrame) -> Optional[str]:\n",
    "    last_close = df['close'].iloc[-1]\n",
    "\n",
    "    # Check if the last close price is above the 20-period SMA, the 20-period SMA is above the 50-period SMA,\n",
    "    # the 50-period SMA is above the 100-period SMA, and the MACD line is above the signal line\n",
    "    if (last_close > df['sma_20'].iloc[-1] and \n",
    "        df['sma_20'].iloc[-1] > df['sma_50'].iloc[-1] and \n",
    "        df['sma_50'].iloc[-1] > df['sma_100'].iloc[-1] and \n",
    "        df['macd_line'].iloc[-1] > df['signal_line'].iloc[-1]):\n",
    "        return \"potential_long\", last_close\n",
    "\n",
    "    return None , None\n",
    "\n",
    "# Initialize Binance Futures API connection\n",
    "exchange = binanceExchange()\n",
    "\n",
    "# Set leverage\n",
    "set_leverage(exchange, symbol, leverage)\n",
    "\n",
    "# Fetch historical data for the last 24 hours\n",
    "df = get_historical_data(symbol, timeframe, 200)\n",
    "\n",
    "# Calculate SMA with periods of 20 and 50\n",
    "df['sma_20'] = analysis_sma(df['close'], 20)\n",
    "df['sma_50'] = analysis_sma(df['close'], 50)\n",
    "df['sma_100'] = analysis_sma(df['close'], 100)\n",
    "\n",
    "# Calculate MACD\n",
    "df['macd_line'], df['signal_line'], df['macd_hist'] = analysis_macd(df['close'])\n",
    "\n",
    "# print(df)\n",
    "\n",
    "# Analyze the signals\n",
    "for i in range(len(df)):\n",
    "    signal, last = simple_long_strategy(df.iloc[:i+1])\n",
    "    \n",
    "    # Print whenever a potential long position is identified\n",
    "    if signal == \"potential_long\":\n",
    "        print(f\"Time: {df.index[i]}, Signal: {signal}, Price: {last}\")\n",
    "\n"
   ]
  }
 ],
 "metadata": {
  "kernelspec": {
   "display_name": "bot_trading-x3yikty2",
   "language": "python",
   "name": "python3"
  },
  "language_info": {
   "codemirror_mode": {
    "name": "ipython",
    "version": 3
   },
   "file_extension": ".py",
   "mimetype": "text/x-python",
   "name": "python",
   "nbconvert_exporter": "python",
   "pygments_lexer": "ipython3",
   "version": "3.11.3"
  },
  "orig_nbformat": 4
 },
 "nbformat": 4,
 "nbformat_minor": 2
}
